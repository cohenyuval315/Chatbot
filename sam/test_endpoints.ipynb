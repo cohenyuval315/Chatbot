{
 "cells": [
  {
   "cell_type": "code",
   "execution_count": 1,
   "metadata": {},
   "outputs": [],
   "source": [
    "import requests"
   ]
  },
  {
   "cell_type": "markdown",
   "metadata": {},
   "source": [
    "# PING"
   ]
  },
  {
   "cell_type": "code",
   "execution_count": 31,
   "metadata": {},
   "outputs": [
    {
     "data": {
      "text/plain": [
       "{'message': 'hello world'}"
      ]
     },
     "execution_count": 31,
     "metadata": {},
     "output_type": "execute_result"
    }
   ],
   "source": [
    "res = requests.get(\"http://127.0.0.1:3001/hello\")\n",
    "res.json()"
   ]
  },
  {
   "cell_type": "markdown",
   "metadata": {},
   "source": [
    "# START"
   ]
  },
  {
   "cell_type": "code",
   "execution_count": 30,
   "metadata": {},
   "outputs": [],
   "source": [
    "res = requests.get(\"http://127.0.0.1:3001/start\")"
   ]
  },
  {
   "cell_type": "markdown",
   "metadata": {},
   "source": [
    "# STOP"
   ]
  },
  {
   "cell_type": "code",
   "execution_count": 29,
   "metadata": {},
   "outputs": [],
   "source": [
    "res = requests.get(\"http://127.0.0.1:3001/stop\")"
   ]
  },
  {
   "cell_type": "markdown",
   "metadata": {},
   "source": [
    "# CHATS"
   ]
  },
  {
   "cell_type": "markdown",
   "metadata": {},
   "source": [
    " ### GET - get all chats"
   ]
  },
  {
   "cell_type": "code",
   "execution_count": 32,
   "metadata": {},
   "outputs": [
    {
     "data": {
      "text/plain": [
       "{'data': []}"
      ]
     },
     "execution_count": 32,
     "metadata": {},
     "output_type": "execute_result"
    }
   ],
   "source": [
    "res = requests.get(\"http://127.0.0.1:3001/c\")\n",
    "res.json()"
   ]
  },
  {
   "cell_type": "markdown",
   "metadata": {},
   "source": [
    "### POST - create new chat"
   ]
  },
  {
   "cell_type": "code",
   "execution_count": 33,
   "metadata": {},
   "outputs": [
    {
     "data": {
      "text/plain": [
       "{'statusCode': 200,\n",
       " 'data': {'chat_id': '72c9bd5a-7c9b-4e5a-a776-403ef905d787',\n",
       "  'title': 'Whakt isdd',\n",
       "  'date': '2023-11-14 17:38:37.308072',\n",
       "  'logs': [{'date': '2023-11-14 17:38:37.487319',\n",
       "    'prompt_id': '6a30f529-3c39-4ebd-b6d8-43cc6d63a8ed',\n",
       "    'prompt': 'whakt isdd your name?',\n",
       "    'response': 'samuel samuel'}]}}"
      ]
     },
     "execution_count": 33,
     "metadata": {},
     "output_type": "execute_result"
    }
   ],
   "source": [
    "data = {\n",
    "    \"prompt\":\"whakt isdd your name?\"\n",
    "}\n",
    "res = requests.post(f\"http://127.0.0.1:3001/c\",json=data)\n",
    "res.json()"
   ]
  },
  {
   "cell_type": "markdown",
   "metadata": {},
   "source": [
    "# CHAT"
   ]
  },
  {
   "cell_type": "markdown",
   "metadata": {},
   "source": [
    "### GET - get a chat"
   ]
  },
  {
   "cell_type": "code",
   "execution_count": 39,
   "metadata": {},
   "outputs": [
    {
     "data": {
      "text/plain": [
       "{'statusCode': 200,\n",
       " 'data': {'chat_id': '72c9bd5a-7c9b-4e5a-a776-403ef905d787',\n",
       "  'title': 'Whakt isdd',\n",
       "  'date': '2023-11-14 17:38:37.308072',\n",
       "  'logs': [{'date': '2023-11-14 17:38:37.487319',\n",
       "    'prompt_id': '6a30f529-3c39-4ebd-b6d8-43cc6d63a8ed',\n",
       "    'prompt': 'whakt isdd your name?',\n",
       "    'response': 'samuel samuel'},\n",
       "   {'date': '2023-11-14 17:39:18.009983',\n",
       "    'prompt_id': '1dcd7c58-7021-4439-acef-7c55f6b4eb86',\n",
       "    'prompt': 'how i make recipe of omlet?',\n",
       "    'response': 'a squirt of omlet'},\n",
       "   {'date': '2023-11-14 17:39:27.424016',\n",
       "    'prompt_id': 'e46720d2-368c-4603-ae20-d23dedf15519',\n",
       "    'prompt': 'how i make recipe of omletthen what?',\n",
       "    'response': 'omlet'},\n",
       "   {'date': '2023-11-14 17:39:37.435631',\n",
       "    'prompt_id': 'afdecda9-7100-4dee-bde0-8b28abf5e17e',\n",
       "    'prompt': 'hi like egg what about u?',\n",
       "    'response': 'i like a snob'},\n",
       "   {'date': '2023-11-14 17:39:48.990276',\n",
       "    'prompt_id': 'a8701514-bd98-4c2c-93b6-d3f17e697d04',\n",
       "    'prompt': 'what is the best chat gpt',\n",
       "    'response': 'gpt'}]}}"
      ]
     },
     "execution_count": 39,
     "metadata": {},
     "output_type": "execute_result"
    }
   ],
   "source": [
    "chat_id = '72c9bd5a-7c9b-4e5a-a776-403ef905d787'\n",
    "res = requests.get(f\"http://127.0.0.1:3001/c/{chat_id}\")\n",
    "res.json()"
   ]
  },
  {
   "cell_type": "markdown",
   "metadata": {},
   "source": [
    "### PUT - add new prompt"
   ]
  },
  {
   "cell_type": "code",
   "execution_count": 38,
   "metadata": {},
   "outputs": [
    {
     "data": {
      "text/plain": [
       "{'statusCode': 200,\n",
       " 'data': {'prompt_id': 'a8701514-bd98-4c2c-93b6-d3f17e697d04',\n",
       "  'date': '2023-11-14 17:39:48.990276',\n",
       "  'prompt': 'what is the best chat gpt',\n",
       "  'response': 'gpt'}}"
      ]
     },
     "execution_count": 38,
     "metadata": {},
     "output_type": "execute_result"
    }
   ],
   "source": [
    "\n",
    "data = {\n",
    "    \"prompt\": \"what is the best chat gpt\"\n",
    "}\n",
    "res = requests.put(f\"http://127.0.0.1:3001/c/{chat_id}\",json=data)\n",
    "res.json()"
   ]
  }
 ],
 "metadata": {
  "kernelspec": {
   "display_name": "Python 3",
   "language": "python",
   "name": "python3"
  },
  "language_info": {
   "codemirror_mode": {
    "name": "ipython",
    "version": 3
   },
   "file_extension": ".py",
   "mimetype": "text/x-python",
   "name": "python",
   "nbconvert_exporter": "python",
   "pygments_lexer": "ipython3",
   "version": "3.10.12"
  }
 },
 "nbformat": 4,
 "nbformat_minor": 2
}
